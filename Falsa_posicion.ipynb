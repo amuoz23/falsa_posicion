{
 "cells": [
  {
   "cell_type": "markdown",
   "id": "821a244b-0443-44d0-bab8-1f7ccfeaec3f",
   "metadata": {},
   "source": [
    "## Método de la Falsa posición "
   ]
  },
  {
   "cell_type": "markdown",
   "id": "87fb4059-f900-46e3-9e52-ca9165e93ef7",
   "metadata": {
    "editable": true,
    "slideshow": {
     "slide_type": ""
    },
    "tags": []
   },
   "source": [
    "El metodo de la la bisección es una técnica perfectamente válida para determinar raíces, su método de aproximación por “fuerza bruta” es relativamente ineficiente. La falsa posición es una alternativa basada en una visualización gráfica."
   ]
  },
  {
   "cell_type": "markdown",
   "id": "bb8178e6-3dd6-49a9-80a4-14d1f17704ae",
   "metadata": {
    "editable": true,
    "slideshow": {
     "slide_type": ""
    },
    "tags": []
   },
   "source": [
    "![imagen 1](imagen2.png)"
   ]
  },
  {
   "cell_type": "markdown",
   "id": "4c043e37-e659-4392-a577-6b84519dbd61",
   "metadata": {},
   "source": [
    "Sea $f:[a,b]\\to\\mathbb{R}$ una función continua tal que $f(a)f(b)<0$. El [teorema de Bolzano](https://www.ecured.cu/Teorema_de_Bolzano) garantiza la existencia de un número  $r\\in (a,b)$ tal que $f(r)=0$.\n",
    "\n",
    "Un inconveniente del método de bisección es que al dividir el intervalo de $a$ a $b$ en mitades iguales, no se toman en consideración las magnitudes de $f(a)$ y $f(b )$. Por ejemplo, si $f(b)$ está mucho más cercana a cero que $f(a)$, es lógico que la raíz se encuentre más cerca de $b$ que de $a$ (figura 1). Un método alternativo que aprovecha esta visualización gráfica consiste en unir $f(a)$ y $f(b)$ con una línea recta. La intersección $c$ de esta línea con el eje de las $x$ representa una mejor aroximación de la raíz. El hecho de que se reemplace la curva por una línea recta da una “falsa posición” de la raíz; de aquí el nombre de método de la falsa posición, o en latín, regula falsi. También se le conoce como método de interpolacion lineal.\n",
    "\n",
    "Usando triángulos semejantes (figura 1), la intersección de la línea recta con el eje de las $x$ se estima mediante"
   ]
  },
  {
   "cell_type": "markdown",
   "id": "36ea944d-9f6d-49ee-a845-7560b6c343a2",
   "metadata": {},
   "source": [
    "\\begin{equation}\n",
    "    \\frac{f(a)}{c-a} = \\frac{f(b)}{c-b}\n",
    "\\end{equation}\n",
    "\n",
    "Despejando $c$ se tiene \n",
    "\n",
    "\\begin{equation}\\tag{1}\n",
    "    c = b- \\frac{f(b)(a-b)}{f(a)-f(b)}\n",
    "\\end{equation} \n"
   ]
  },
  {
   "cell_type": "markdown",
   "id": "333bc11a-5b8b-4699-a742-582988390f64",
   "metadata": {},
   "source": [
    "Ésta es la fórmula de la falsa posición. El valor de $c$ calculado con la ecuacion. (1), reemplazará, despues a cualquiera de los dos valores iniciales, $a$ o $b$, y da un valor de la funcion con el mismo signo de $f(c)$. de esta manera, los valores $a$ y $b$ siempre encierran a la raíz $r$."
   ]
  },
  {
   "cell_type": "markdown",
   "id": "24329f73-0906-4b9a-ae90-9e31dd2ffd08",
   "metadata": {},
   "source": [
    "# Convergencia del metodo de la falsa posición\n",
    "\n",
    "\n",
    "\n",
    "Para discutir laconvergencia de del metodo de la falsa posicion, asumiremos por simplicidad que $f''$ existe y que para algun valor $i$:\n",
    "\n",
    "\\begin{equation} \\tag{2a}\n",
    "    a_i<b_i\n",
    "\\end{equation}\n",
    "\n",
    "\\begin{equation} \\tag{2b}\n",
    "    f(a_i)<0,     f(b_i)>0\n",
    "\\end{equation}\n",
    "\n",
    "\\begin{equation} \\tag{2c}\n",
    "    f''(x) \\geq 0, \\forall x \\in[a_i,b_i]\n",
    "\\end{equation}\n",
    "\n",
    "\n",
    "Con estas hipótesis $f(c_i)=0$ ó \n",
    "$$f(c_i)\\cdot f(a_i)>0$$ \n",
    "\n",
    "y entonces $a_i<a_{i+1}=c_i<b_{i+1}=a_i$  (ver figuras 1 y 2).\n",
    "\n",
    "Es fácil ahora ver que que las formulas (2), son válidas $\\forall i \\geq i_0$ si son válidas para un $i_0$. Entonces, $b_i=b$ para $i \\geq i_0$ y las $a_i$ forman una sucesion monótona acotada creciente, y el límite $\\lim_{x \\to \\infty}a_i=\\overline{a}$ existe. Por el hecho de que $f$ es continnua , y por (2) se sigue que\n",
    "\n",
    "\\begin{equation}\n",
    "    f(b)>0,  f(\\overline{a})\\leq0\n",
    "\\end{equation}\n",
    "\n",
    "Además reescribiendo y pasando al limite en (1)\n",
    "\\begin{equation}\n",
    "    \\overline{a}=\\frac{bf(\\overline{a})-\\overline{a}f(b)}{f{\\overline{a}-f(b)}} \\Longrightarrow (\\overline{a}-b)f(\\overline{a})=0\n",
    "\\end{equation}\n",
    "\n",
    "Pero $\\overline{a} \\neq b$, y entonces $f(\\overline{a})=0$\n",
    "\n",
    "![imagen 1](fig1.png)\n",
    "\n",
    "\n"
   ]
  },
  {
   "cell_type": "markdown",
   "id": "6a4bfb46-0328-45ea-9985-a346647a947c",
   "metadata": {},
   "source": [
    "\n",
    "# Orden de convergencia del metodo de la falsa posicion\n",
    "## Nota: La siguiente demostracion se obtuvo del libro _Linear and nonlinear programing by David G. luenberger & Yiyun Ye, Third Edition-pag 224_, por lo tanto se usara la misma notacion. Para mayor detalle remitirse al libro.\n",
    "\n",
    "Definimos la iteracion del método de la falsa posicion  como se sigue \n",
    "\\begin{equation}\\tag{3}\n",
    "x_{k+1}=x_k-g(x_k)\\left[\\frac{x_k-x_{k-1}}{g(x_k)-g(x_{k-1})}\\right]\n",
    "\\end{equation}\n",
    "\n",
    "**Proposición:** Sea $g$ una función con segunda derivada continua y $x^{*}$ es tal que $g(x^*)=0, g'(x^*)\\neq 0$. Entonces, para un $x_0$suficientemente cerca de $x^*$, la sucesión ${x_k}_{k=0}^{\\infty}$ generada por el método de posición falsa (3) converge a $x^*$ con orden $\\tau_1 \\simeq 1.618$\n",
    "\n",
    "![imagen 1](fig3.png)\n",
    "\n",
    "**Demostración:** Notacion \n",
    "\\begin{equation} \\tag{4}\n",
    "    g[a,b]\\overset{\\tiny Not}{=} \\frac{g(b)-g(a)}{b-a}\n",
    "\\end{equation}\n",
    "\n",
    "Tenemos \n",
    "\n",
    "\\begin{align}\n",
    "    x_{k-1}-x^* &=x_k-x*-g(x_k)\\left[ \\frac{x_k - x_{k-1}}{g(x_k) - g(x_{k-1})}\\right] \\\\\n",
    "    &=(x_k-x^*)\\left\\{\\frac{g[x_{k-1},x_k]-g[x_k,x^*]}{g[x_{k-1},x_k]}\\right\\} \\tag{5}\n",
    "\\end{align}\n",
    "\n",
    "Además, tras la introducción de la notación.\n",
    "$$g[a,b,c]\\overset{\\tiny Not}{=} \\frac{g[a,b]-g[b,c]}{a-c} $$\n",
    "\n",
    "Podemos escribir (5) como\n",
    "\n",
    "\\begin{equation}\n",
    "     x_{k+1}-x^* = (x_k-x^*)(x_{k-1}-x^*) \\left\\{\\frac{g[k_{k-1},x_k,x^*]}{g[x_{k-1},x_k]} \\right\\}\n",
    "\\end{equation}\n",
    "\n",
    "ahora, por el teorema del valor medio con residuo, tenemos $_{[1]}$\n",
    "\n",
    "\\begin{equation} \\tag{6}\n",
    "    g[x_{k-1},x_k]=g'(\\xi_k)    \n",
    "\\end{equation} \n",
    "\n",
    "y\n",
    "\n",
    "\\begin{equation} \\tag{7}\n",
    "    g[x_{k-1},x_k,x^*]=\\frac{1}{2}g''(\\eta_k)    \n",
    "\\end{equation} \n",
    "\n",
    "Donde $\\xi_k$ y $\\eta_k$ son combinaciones convexas de $x_k, x_{k-1}$ y $x_k, x_{k-1},x^*$ respectivamente. Así\n",
    "\n",
    "\\begin{equation} \\tag{8}\n",
    "    x_{k+1}-x^* = \\frac{g''(\\eta_k)}{2g'(\\xi_k)}(x_k-x^*)(x_{k-1}-x^*)    \n",
    "\\end{equation}\n",
    "\n",
    "Se deduce inmediatamente que el proceso converge si se inicia lo suficientemente cerca de $x^*$. Para determinar el orden de convergencia, observamos que para $k$ grande la ecuacion (8) se vuelve aproximadamente\n",
    "\n",
    "\\begin{equation} \\tag{9}\n",
    "    x_{k+1}-x^* = M(x_k-x^*)(x_{k-1-x^*})    \n",
    "\\end{equation} \n",
    "\n",
    "donde $$M=\\frac{g''(x^*)}{2g''(x^*)}$$\n",
    "\n",
    "Definiendo así $\\varepsilon_k =(x_k-x^*)$ tenemos, en el límite\n",
    "\n",
    "\\begin{equation} \\tag{10}\n",
    "    \\varepsilon_{k+1} = M\\varepsilon_k \\varepsilon_{k-1}   \n",
    "\\end{equation} \n",
    "\n",
    "Tomando el logaritmo de esta ecuación tenemos, con $y_k= \\text{log}M\\varepsilon_k$,\n",
    "\n",
    "\\begin{equation} \\tag{11}\n",
    "    y_{k+1}=y_k+y_{k-1}  \n",
    "\\end{equation} \n",
    "\n",
    "que es la ecuación en diferencias de Fibonacci$_{[2]}$. Una solución a\n",
    "esta ecuación satisfará\n",
    "\n",
    "\\begin{equation}\n",
    "    y_{k+1}-\\tau_1y_k \\longrightarrow 0 \n",
    "\\end{equation} \n",
    "\n",
    "De este modo\n",
    "\n",
    "\\begin{equation}\n",
    "    \\text{log}M\\varepsilon_{k+1}-\\tau_1\\text{log}M\\varepsilon_k \\longrightarrow 0 \\text{    or  } \\text{log} \\frac{M\\varepsilon_{k+1}}{(M\\varepsilon_k)^{\\tau_1}} \\longrightarrow 0,\n",
    "\\end{equation}\n",
    "\n",
    " Y por tanto\n",
    "\n",
    " \\begin{equation}\n",
    "    \\frac{\\varepsilon_{k+1}}{\\varepsilon_{k}^{\\tau_1}} \\longrightarrow M^{(\\tau_1-1)}\n",
    "\\end{equation} \n",
    "\n",
    "\n",
    "\n",
    "\n",
    "Habiendo derivado la fórmula del error (10) mediante un análisis directo, ahora es apropiado señalar una técnica abreviada, basada en la simetría y otras consideraciones, que a veces se puede utilizar en situaciones aún más complicadas. El lado derecho de la fórmula de error (10) debe ser un polinomio en $\\varepsilon_k$ and $\\varepsilon_{k−1}$, ya que se deriva de aproximaciones basadas en el teorema de Taylor. Además, debe ser de segundo orden, ya que el método se reduce al método de Newton cuando $x_k = x_{k−1}$. Además, debe tender a cero si $\\varepsilon_k$ or $\\varepsilon_{k−1}$ tienden a cero, ya que el método claramente produce $\\varepsilon_{k+1} = 0$ en ese caso. Finalmente, debe ser simétrico en $\\varepsilon_k$ y $\\varepsilon_{k−1}$, ya que el orden de los puntos no es relevante. La única fórmula que satisface estos requisitos es $\\varepsilon_{k+1} = M\\varepsilon_k \\varepsilon_{k−1}$. $\\blacksquare$\n",
    "\n",
    "[1]Revisar el ejercicio 8.12 inciso 2 del libroLinear and nonlinear programing by David G. luenberger & Yiyun Ye, pag 257.\n",
    "[2] Revisar la seccion 7.1 del libro Linear and nonlinear programing by David G. luenberger & Yiyun Ye"
   ]
  },
  {
   "cell_type": "markdown",
   "id": "e2bebb0a-815e-47db-b5dc-3990b0cdabd1",
   "metadata": {},
   "source": [
    "# Ejemplo\n",
    "\n",
    "Hallar una raiz de $f(x)=x^3+4x^2-10$ en el intervalo $[a,b]=[1,2]$\n",
    "\n",
    "__Iteración 1__\n",
    "\n",
    "\\begin{equation}\n",
    "    c_0 = b- \\frac{f(b)(a-b)}{f(a)-f(b)} = 2-\\frac{14(-1)}{-5-14}=1.263158\n",
    "\\end{equation}\n",
    "\n",
    "Nuevo intervalo $$f(a)f(c_0)>0 \\longrightarrow [a_1,b_1]=[1.263158,2]$$\n",
    "\n",
    "__Iteración 2__\n",
    "\n",
    "\\begin{equation}\n",
    "    c_1 = b_1- \\frac{f(b_1)(a1-b_1)}{f(a_1)-f(b_1)} = 2-\\frac{-1.602273(-0.766842)}{-1.602273-14}=1.338828\n",
    "\\end{equation}\n",
    "\n",
    "Nuevo intervalo $$f(a_1)f(c_1)>0 \\longrightarrow [a_2,b_2]=[1.338828,2]$$\n",
    "\n",
    "Error relativo\n",
    "\\begin{equation*}\n",
    "    e_{r} = \\bigg|\\frac{c_1 - c_0}{c_1}\\bigg| \\times 100\\% = \\bigg|\\frac{1.338828 - 1.263158}{1.338828}\\bigg| \\times 100\\% = 5.65\\%\n",
    "\\end{equation*}\n",
    "\n",
    "__Iteración 3__\n",
    "\n",
    "\\begin{equation}\n",
    "    c_2 = b_2- \\frac{f(b_2)(a_2-b_2)}{f(a_2)-f(b_2)} = 2-\\frac{14(-0.661172)}{-0.430362-14}=1.358546\n",
    "\\end{equation}\n",
    "\n",
    "Nuevo intervalo $$f(a_2)f(c_2)>0 \\longrightarrow [a_3,b_3]=[1.358546,2]$$\n",
    "\n",
    "Error relativo\n",
    "\\begin{equation*}\n",
    "    e_{r} = \\bigg|\\frac{c_2 - c_1}{c_2}\\bigg| \\times 100\\% = \\bigg|\\frac{1.358546-1.338828}{1.358546}\\bigg| \\times 100\\% = 1.455\\%\n",
    "\\end{equation*}\n",
    "\n",
    "__Iteración 4__\n",
    "\n",
    "\\begin{equation}\n",
    "    c_3 = b_3- \\frac{f(b_3)(a_3-b_3)}{f(a_3)-f(b_)} = 2-\\frac{14(-0.641454)}{-0.110014-14}=1.363547\n",
    "\\end{equation}\n",
    "\n",
    "Nuevo intervalo $$f(a_3)f(c_3)>0 \\longrightarrow [a_3,b_3]=[1.363547,2]$$\n",
    "\n",
    "Error relativo\n",
    "\\begin{equation*}\n",
    "    e_{r} = \\bigg|\\frac{c_3 - c_2}{c_3}\\bigg| \\times 100\\% = \\bigg|\\frac{1.363547-1.358546}{1.363547}\\bigg| \\times 100\\% = 0.37\\%\n",
    "\\end{equation*}\n",
    "\n",
    "\n",
    "\n",
    "\n"
   ]
  },
  {
   "cell_type": "markdown",
   "id": "16d6f6e6-e9ee-4c0f-8b6a-db85d5a9b176",
   "metadata": {},
   "source": [
    "## Falsa posicion en python"
   ]
  },
  {
   "cell_type": "code",
   "execution_count": 1,
   "id": "0f2b146d-3a54-4ff7-8c8c-edb8b70b6c68",
   "metadata": {},
   "outputs": [],
   "source": [
    "import sympy as sp\n",
    "\n",
    "\n",
    "def falsa_posicion(f, a, b, tol, n):\n",
    "    print(\"{0:2s}\\t{1:12s}\\t{2:12s}\\t{3:12s}\\t{4:16s}\".format(' i ', 'a', 'b', 'raiz', 'error relativo %'))\n",
    "    \n",
    "    c = b - (f(b)*(a - b))/(f(a) - f(b))\n",
    "    i = 0\n",
    "    print(\"{0:2d}\\t{1:12.10f}\\t{2:12.10f}\\t{3:12.10f}\\t{4:16s}\".format(i, a, b, c, '????????????????'))\n",
    "    \n",
    "    while i < n:\n",
    "        c_anterior = c\n",
    "        if f(a)*f(c) > 0:\n",
    "            a = c\n",
    "        if f(a)*f(c) < 0:\n",
    "            b = c\n",
    "        c = b - (f(b)*(a - b))/(f(a) - f(b))\n",
    "        if c != 0:\n",
    "            error_relativo = abs((c - c_anterior)/c)*100\n",
    "        i += 1\n",
    "        print(\"{0:2d}\\t{1:12.10f}\\t{2:12.10f}\\t{3:12.10f}\\t{4:16.13f}\".format(i, a, b, c, error_relativo))\n",
    "        if error_relativo < tol or i >= n:\n",
    "            break\n",
    "            \n",
    "    print('\\nx =', c)"
   ]
  },
  {
   "cell_type": "code",
   "execution_count": 9,
   "id": "acec6ff0-ddbf-42f6-b39e-6bc45745d604",
   "metadata": {},
   "outputs": [
    {
     "name": "stdout",
     "output_type": "stream",
     "text": [
      "Ingrese la función:  x**10-1\n"
     ]
    },
    {
     "name": "stdout",
     "output_type": "stream",
     "text": [
      " i \ta           \tb           \traiz        \terror relativo %\n",
      " 0\t0.0000000000\t1.3000000000\t0.0942995954\t????????????????\n",
      " 1\t0.0942995954\t1.3000000000\t0.1817588725\t48.1182986748398\n",
      " 2\t0.1817588725\t1.3000000000\t0.2628740125\t30.8570403074589\n",
      " 3\t0.2628740125\t1.3000000000\t0.3381051033\t22.2508001395819\n",
      " 4\t0.3381051033\t1.3000000000\t0.4078779166\t17.1062983388110\n",
      " 5\t0.4078779166\t1.3000000000\t0.4725831536\t13.6918204726262\n",
      " 6\t0.4725831536\t1.3000000000\t0.5325715106\t11.2639065124672\n",
      " 7\t0.5325715106\t1.3000000000\t0.5881445692\t 9.4488772746855\n",
      " 8\t0.5881445692\t1.3000000000\t0.6395439708\t 8.0368831459384\n",
      " 9\t0.6395439708\t1.3000000000\t0.6869431667\t 6.9000171000868\n",
      "10\t0.6869431667\t1.3000000000\t0.7304464367\t 5.9557097914883\n",
      "11\t0.7304464367\t1.3000000000\t0.7700987445\t 5.1489900596811\n",
      "12\t0.7700987445\t1.3000000000\t0.8059075090\t 4.4432846349574\n",
      "13\t0.8059075090\t1.3000000000\t0.8378738914\t 3.8151782427763\n",
      "14\t0.8378738914\t1.3000000000\t0.8660276321\t 3.2509055854310\n",
      "15\t0.8660276321\t1.3000000000\t0.8904572814\t 2.7434948060146\n",
      "16\t0.8904572814\t1.3000000000\t0.9113282513\t 2.2901704108555\n",
      "17\t0.9113282513\t1.3000000000\t0.9288846696\t 1.8900536165121\n",
      "18\t0.9288846696\t1.3000000000\t0.9434360517\t 1.5423813965015\n",
      "19\t0.9434360517\t1.3000000000\t0.9553339752\t 1.2454203191581\n",
      "20\t0.9553339752\t1.3000000000\t0.9649455723\t 0.9960766104369\n",
      "21\t0.9649455723\t1.3000000000\t0.9726296888\t 0.7900351544064\n",
      "22\t0.9726296888\t1.3000000000\t0.9787191336\t 0.6221851212216\n",
      "23\t0.9787191336\t1.3000000000\t0.9835099523\t 0.4871144091674\n",
      "24\t0.9835099523\t1.3000000000\t0.9872569174\t 0.3795329232732\n",
      "25\t0.9872569174\t1.3000000000\t0.9901736307\t 0.2945658502051\n",
      "26\t0.9901736307\t1.3000000000\t0.9924355413\t 0.2279151142238\n",
      "27\t0.9924355413\t1.3000000000\t0.9941844676\t 0.1759156663969\n",
      "28\t0.9941844676\t1.3000000000\t0.9955336217\t 0.1355207000545\n",
      "29\t0.9955336217\t1.3000000000\t0.9965725090\t 0.1042460337783\n",
      "30\t0.9965725090\t1.3000000000\t0.9973713640\t 0.0800960408345\n",
      "31\t0.9973713640\t1.3000000000\t0.9979849817\t 0.0614856611266\n",
      "32\t0.9979849817\t1.3000000000\t0.9984559216\t 0.0471668256320\n",
      "33\t0.9984559216\t1.3000000000\t0.9988171271\t 0.0361633263183\n",
      "34\t0.9988171271\t1.3000000000\t0.9990940308\t 0.0277154772131\n",
      "35\t0.9990940308\t1.3000000000\t0.9993062274\t 0.0212343909836\n",
      "36\t0.9993062274\t1.3000000000\t0.9994687904\t 0.0162649395109\n",
      "37\t0.9994687904\t1.3000000000\t0.9995933015\t 0.0124561750555\n",
      "38\t0.9995933015\t1.3000000000\t0.9996886513\t 0.0095379561173\n",
      "39\t0.9996886513\t1.3000000000\t0.9997616601\t 0.0073026200213\n",
      "40\t0.9997616601\t1.3000000000\t0.9998175569\t 0.0055906962913\n",
      "41\t0.9998175569\t1.3000000000\t0.9998603491\t 0.0042798187791\n",
      "42\t0.9998603491\t1.3000000000\t0.9998931071\t 0.0032761489120\n",
      "43\t0.9998931071\t1.3000000000\t0.9999181826\t 0.0025077580572\n",
      "44\t0.9999181826\t1.3000000000\t0.9999373767\t 0.0019195312706\n",
      "45\t0.9999373767\t1.3000000000\t0.9999520685\t 0.0014692483854\n",
      "46\t0.9999520685\t1.3000000000\t0.9999633138\t 0.0011245737972\n",
      "47\t0.9999633138\t1.3000000000\t0.9999719211\t 0.0008607462032\n",
      "48\t0.9999719211\t1.3000000000\t0.9999785090\t 0.0006588066862\n",
      "49\t0.9999785090\t1.3000000000\t0.9999835513\t 0.0005042403667\n",
      "50\t0.9999835513\t1.3000000000\t0.9999874106\t 0.0003859354906\n",
      "51\t0.9999874106\t1.3000000000\t0.9999903644\t 0.0002953860016\n",
      "52\t0.9999903644\t1.3000000000\t0.9999926252\t 0.0002260807762\n",
      "53\t0.9999926252\t1.3000000000\t0.9999943556\t 0.0001730359089\n",
      "54\t0.9999943556\t1.3000000000\t0.9999956799\t 0.0001324365876\n",
      "55\t0.9999956799\t1.3000000000\t0.9999966936\t 0.0001013629095\n",
      "56\t0.9999966936\t1.3000000000\t0.9999974694\t 0.0000775799778\n",
      "57\t0.9999974694\t1.3000000000\t0.9999980631\t 0.0000593772184\n",
      "58\t0.9999980631\t1.3000000000\t0.9999985176\t 0.0000454453812\n",
      "59\t0.9999985176\t1.3000000000\t0.9999988654\t 0.0000347823906\n",
      "60\t0.9999988654\t1.3000000000\t0.9999991316\t 0.0000266212799\n",
      "61\t0.9999991316\t1.3000000000\t0.9999993354\t 0.0000203750322\n",
      "62\t0.9999993354\t1.3000000000\t0.9999994913\t 0.0000155943607\n",
      "63\t0.9999994913\t1.3000000000\t0.9999996107\t 0.0000119353942\n",
      "64\t0.9999996107\t1.3000000000\t0.9999997020\t 0.0000091349443\n",
      "65\t0.9999997020\t1.3000000000\t0.9999997719\t 0.0000069915745\n",
      "66\t0.9999997719\t1.3000000000\t0.9999998254\t 0.0000053511121\n",
      "67\t0.9999998254\t1.3000000000\t0.9999998664\t 0.0000040955579\n",
      "68\t0.9999998664\t1.3000000000\t0.9999998978\t 0.0000031345996\n",
      "69\t0.9999998978\t1.3000000000\t0.9999999217\t 0.0000023991150\n",
      "70\t0.9999999217\t1.3000000000\t0.9999999401\t 0.0000018362003\n",
      "71\t0.9999999401\t1.3000000000\t0.9999999542\t 0.0000014053646\n",
      "72\t0.9999999542\t1.3000000000\t0.9999999649\t 0.0000010756178\n",
      "73\t0.9999999649\t1.3000000000\t0.9999999731\t 0.0000008232409\n",
      "74\t0.9999999731\t1.3000000000\t0.9999999794\t 0.0000006300803\n",
      "75\t0.9999999794\t1.3000000000\t0.9999999843\t 0.0000004822418\n",
      "76\t0.9999999843\t1.3000000000\t0.9999999880\t 0.0000003690913\n",
      "77\t0.9999999880\t1.3000000000\t0.9999999908\t 0.0000002824898\n",
      "78\t0.9999999908\t1.3000000000\t0.9999999929\t 0.0000002162080\n",
      "79\t0.9999999929\t1.3000000000\t0.9999999946\t 0.0000001654781\n",
      "80\t0.9999999946\t1.3000000000\t0.9999999959\t 0.0000001266513\n",
      "81\t0.9999999959\t1.3000000000\t0.9999999968\t 0.0000000969345\n",
      "82\t0.9999999968\t1.3000000000\t0.9999999976\t 0.0000000741904\n",
      "83\t0.9999999976\t1.3000000000\t0.9999999981\t 0.0000000567827\n",
      "84\t0.9999999981\t1.3000000000\t0.9999999986\t 0.0000000434596\n",
      "85\t0.9999999986\t1.3000000000\t0.9999999989\t 0.0000000332625\n",
      "86\t0.9999999989\t1.3000000000\t0.9999999992\t 0.0000000254579\n",
      "87\t0.9999999992\t1.3000000000\t0.9999999994\t 0.0000000194846\n",
      "88\t0.9999999994\t1.3000000000\t0.9999999995\t 0.0000000149129\n",
      "89\t0.9999999995\t1.3000000000\t0.9999999996\t 0.0000000114138\n",
      "90\t0.9999999996\t1.3000000000\t0.9999999997\t 0.0000000087357\n",
      "91\t0.9999999997\t1.3000000000\t0.9999999998\t 0.0000000066860\n",
      "92\t0.9999999998\t1.3000000000\t0.9999999998\t 0.0000000051173\n",
      "93\t0.9999999998\t1.3000000000\t0.9999999999\t 0.0000000039166\n",
      "94\t0.9999999999\t1.3000000000\t0.9999999999\t 0.0000000029976\n",
      "95\t0.9999999999\t1.3000000000\t0.9999999999\t 0.0000000022943\n",
      "96\t0.9999999999\t1.3000000000\t0.9999999999\t 0.0000000017560\n",
      "97\t0.9999999999\t1.3000000000\t1.0000000000\t 0.0000000013439\n",
      "98\t1.0000000000\t1.3000000000\t1.0000000000\t 0.0000000010286\n",
      "99\t1.0000000000\t1.3000000000\t1.0000000000\t 0.0000000007873\n",
      "100\t1.0000000000\t1.3000000000\t1.0000000000\t 0.0000000006025\n",
      "101\t1.0000000000\t1.3000000000\t1.0000000000\t 0.0000000004612\n",
      "102\t1.0000000000\t1.3000000000\t1.0000000000\t 0.0000000003530\n",
      "103\t1.0000000000\t1.3000000000\t1.0000000000\t 0.0000000002701\n",
      "104\t1.0000000000\t1.3000000000\t1.0000000000\t 0.0000000002068\n",
      "105\t1.0000000000\t1.3000000000\t1.0000000000\t 0.0000000001583\n",
      "106\t1.0000000000\t1.3000000000\t1.0000000000\t 0.0000000001211\n",
      "107\t1.0000000000\t1.3000000000\t1.0000000000\t 0.0000000000927\n",
      "\n",
      "x = 0.9999999999969762\n"
     ]
    }
   ],
   "source": [
    "expr = input(\"Ingrese la función: \")\n",
    "x = sp.Symbol('x')\n",
    "f = sp.sympify(expr) \n",
    "f_lambda = sp.lambdify(x, f)\n",
    "\n",
    "falsa_posicion(f_lambda, 0, 1.3, 1e-10, 200)"
   ]
  },
  {
   "cell_type": "markdown",
   "id": "93386a5d-8f94-4ecc-b1a8-678c987ad1d6",
   "metadata": {},
   "source": [
    "## Método de la biseccion"
   ]
  },
  {
   "cell_type": "code",
   "execution_count": 5,
   "id": "384bb302-607a-4342-adcf-2b3418d03231",
   "metadata": {},
   "outputs": [],
   "source": [
    "\n",
    "import sympy as sp\n",
    "\n",
    "# Método de la bisección\n",
    "def biseccion(a, b, tol):\n",
    "    print(\"Ingrese la función: \")\n",
    "    x = sp.symbols('x')\n",
    "    f = input('f(x) = ')\n",
    "    f = sp.lambdify(x, f)\n",
    "\n",
    "    print(\"{:<2s}\\t{:<12s}\\t{:<12s}\\t{:<12s}\\t{:<16s}\".format('i', 'a', 'b', 'raiz', 'error relativo %'))\n",
    "\n",
    "    if f(a)*f(b) > 0:\n",
    "        print(\"Elija otro intervalo.\")\n",
    "    elif f(a) == 0:\n",
    "        print(f'La solución es  x={a}')\n",
    "    elif f(b) == 0:\n",
    "        print(f'La solución es x={b}')\n",
    "    else: \n",
    "        iter_count = 0\n",
    "        while b - a >= tol:\n",
    "            c = (a + b) / 2\n",
    "            iter_count += 1  # Incrementando el contador de iteraciones\n",
    "            ea = abs((b - a) / b) * 100\n",
    "            print(\"{:<2d}\\t{:<12.10f}\\t{:<12.10f}\\t{:<12.10f}\\t{:<16.13f}\".format(iter_count, a, b, c, ea))\n",
    "            if f(c) == 0:\n",
    "                return c\n",
    "            else:\n",
    "                if f(a) * f(c) > 0:\n",
    "                    a = c\n",
    "                else:\n",
    "                    b = c\n",
    "        \n",
    "        ea = abs((b - a) / b) * 100\n",
    "        print(\"{:<2d}\\t{:<12.10f}\\t{:<12.10f}\\t{:<12.10f}\\t{:<16.13f}\".format(iter_count+1, a, b, c, ea))\n",
    "        \n",
    "        print(f'\\nx = {c}')\n",
    "        return c\n",
    "\n",
    "\n"
   ]
  },
  {
   "cell_type": "code",
   "execution_count": 10,
   "id": "85a6d22d-45ad-4caa-84da-caffb906dca4",
   "metadata": {},
   "outputs": [
    {
     "name": "stdout",
     "output_type": "stream",
     "text": [
      "Ingrese la función: \n"
     ]
    },
    {
     "name": "stdout",
     "output_type": "stream",
     "text": [
      "f(x) =  x**10-1\n"
     ]
    },
    {
     "name": "stdout",
     "output_type": "stream",
     "text": [
      "i \ta           \tb           \traiz        \terror relativo %\n",
      "1 \t0.0000000000\t1.3000000000\t0.6500000000\t100.0000000000000\n",
      "2 \t0.6500000000\t1.3000000000\t0.9750000000\t50.0000000000000\n",
      "3 \t0.9750000000\t1.3000000000\t1.1375000000\t25.0000000000000\n",
      "4 \t0.9750000000\t1.1375000000\t1.0562500000\t14.2857142857143\n",
      "5 \t0.9750000000\t1.0562500000\t1.0156250000\t7.6923076923077 \n",
      "6 \t0.9750000000\t1.0156250000\t0.9953125000\t4.0000000000000 \n",
      "7 \t0.9953125000\t1.0156250000\t1.0054687500\t2.0000000000000 \n",
      "8 \t0.9953125000\t1.0054687500\t1.0003906250\t1.0101010101010 \n",
      "9 \t0.9953125000\t1.0003906250\t0.9978515625\t0.5076142131980 \n",
      "10\t0.9978515625\t1.0003906250\t0.9991210938\t0.2538071065990 \n",
      "11\t0.9991210938\t1.0003906250\t0.9997558594\t0.1269035532995 \n",
      "12\t0.9997558594\t1.0003906250\t1.0000732422\t0.0634517766497 \n",
      "13\t0.9997558594\t1.0000732422\t0.9999145508\t0.0317359568391 \n",
      "14\t0.9999145508\t1.0000732422\t0.9999938965\t0.0158679784195 \n",
      "15\t0.9999938965\t1.0000732422\t1.0000335693\t0.0079339892098 \n",
      "16\t0.9999938965\t1.0000335693\t1.0000137329\t0.0039671519816 \n",
      "17\t0.9999938965\t1.0000137329\t1.0000038147\t0.0019836153373 \n",
      "18\t0.9999938965\t1.0000038147\t0.9999988556\t0.0009918175056 \n",
      "19\t0.9999988556\t1.0000038147\t1.0000013351\t0.0004959087528 \n",
      "20\t0.9999988556\t1.0000013351\t1.0000000954\t0.0002479549912 \n",
      "21\t0.9999988556\t1.0000000954\t0.9999994755\t0.0001239776493 \n",
      "22\t0.9999994755\t1.0000000954\t0.9999997854\t0.0000619888247 \n",
      "23\t0.9999997854\t1.0000000954\t0.9999999404\t0.0000309944123 \n",
      "24\t0.9999999404\t1.0000000954\t1.0000000179\t0.0000154972062 \n",
      "25\t0.9999999404\t1.0000000179\t0.9999999791\t0.0000077486037 \n",
      "26\t0.9999999791\t1.0000000179\t0.9999999985\t0.0000038743018 \n",
      "27\t0.9999999985\t1.0000000179\t1.0000000082\t0.0000019371509 \n",
      "28\t0.9999999985\t1.0000000082\t1.0000000034\t0.0000009685755 \n",
      "29\t0.9999999985\t1.0000000034\t1.0000000009\t0.0000004842877 \n",
      "30\t0.9999999985\t1.0000000009\t0.9999999997\t0.0000002421439 \n",
      "31\t0.9999999997\t1.0000000009\t1.0000000003\t0.0000001210719 \n",
      "32\t0.9999999997\t1.0000000003\t1.0000000000\t0.0000000605360 \n",
      "33\t0.9999999997\t1.0000000000\t0.9999999999\t0.0000000302680 \n",
      "34\t0.9999999999\t1.0000000000\t0.9999999999\t0.0000000151340 \n",
      "35\t0.9999999999\t1.0000000000\t0.9999999999\t0.0000000075670 \n",
      "\n",
      "x = 0.9999999999476132\n"
     ]
    },
    {
     "data": {
      "text/plain": [
       "0.9999999999476132"
      ]
     },
     "execution_count": 10,
     "metadata": {},
     "output_type": "execute_result"
    }
   ],
   "source": [
    "\n",
    "biseccion(0, 1.3, 1e-10)"
   ]
  },
  {
   "cell_type": "markdown",
   "id": "4c2ea121-1432-4c68-aeb5-56852f7bc74e",
   "metadata": {},
   "source": [
    "## Falsa posicion modificada "
   ]
  },
  {
   "cell_type": "markdown",
   "id": "5e9b4632-cf6c-492a-8b41-595d475774fa",
   "metadata": {},
   "source": [
    "Aunque el método de la falsa posición parecería ser siempre la mejor opción entre los métodos cerrados, hay casos donde funciona de manera deficiente. En efecto, como en el ejemplo siguiente, hay ciertos casos donde el método de bisección ofrece mejores resultados.\n",
    "\n",
    "con el método de bisección  y de la falsa posición localice la raíz entre $0$ y $1.3$ de\n",
    "\n",
    "$$f(x)=x^{10}-1$$"
   ]
  },
  {
   "cell_type": "code",
   "execution_count": null,
   "id": "1705c902-30db-4efb-96d0-81fce855dda5",
   "metadata": {},
   "outputs": [],
   "source": [
    "biseccion(0,1.3,1e-10)"
   ]
  },
  {
   "cell_type": "code",
   "execution_count": null,
   "id": "804bfc33-7556-403a-94bc-248075eac463",
   "metadata": {},
   "outputs": [],
   "source": [
    "expr = input(\"Ingrese la función: \")\n",
    "x = sp.Symbol('x')\n",
    "f = sp.sympify(expr) \n",
    "f_lambda = sp.lambdify(x, f)\n",
    "\n",
    "falsa_posicion(f_lambda, 0, 1.3, 1e-10, 1000)"
   ]
  },
  {
   "cell_type": "markdown",
   "id": "58d0f152-7eea-4061-a843-17a605260dd2",
   "metadata": {},
   "source": [
    "![imagen 2](imagen3.png)"
   ]
  },
  {
   "cell_type": "markdown",
   "id": "f220dffb-b04b-48b0-b112-884fef1fa80a",
   "metadata": {},
   "source": [
    "Una forma de disminuir la naturaleza unilateral de la falsa posición consiste en obtener un algoritmo que detecte cuando se “estanca” uno de los límites del intervalo. Si ocurre esto, se divide a la mitad el valor de la función en el punto de “estancamiento”. A este método se le llama método de la falsa posición modificado. La siguiente implementacion lleva a cabo dicha estrategia. Observe cómo se han usado contadores para determinar si uno de los límites del intervalo permanece fijo “estancado” durante dos iteraciones. Si ocurre así, el valor de la función en este valor de “estancamiento” se divide a la mitad."
   ]
  },
  {
   "cell_type": "code",
   "execution_count": 55,
   "id": "9968230f-fa0d-4f8f-92e0-1a79084a8b07",
   "metadata": {},
   "outputs": [],
   "source": [
    "import sympy as sp\n",
    "\n",
    "def ModFalsePos(a, b, tol, n):\n",
    "    x = sp.Symbol('x')  # Definir el símbolo x para SymPy\n",
    "    expr = input(\"Ingrese f(x): \")\n",
    "    f = sp.sympify(expr)  # Convertir la expresión de texto a una expresión SymPy\n",
    "    fa = f.subs(x, a)  # Calcular f(a)\n",
    "    fb = f.subs(x, b)  # Calcular f(b)\n",
    "    iter = 0  # Inicializar el contador de iteraciones\n",
    "    ia, ib = 0, 0  # Contadores de extremos\n",
    "\n",
    "    # Imprimir encabezados de la tabla\n",
    "    print(f\"{'i':<2s}\\t{'a':<12s}\\t{'b':<12s}\\t{'raiz':<12s}\\t{'error relativo %':<16s}\")\n",
    "\n",
    "    while True:  # Bucle principal del método de la falsa posición\n",
    "        c = b - fb * (a - b) / (fa - fb)  # Calcular el próximo punto c\n",
    "        fc = f.subs(x, c)  # Calcular f(c)\n",
    "        iter += 1  # Incrementar el contador de iteraciones\n",
    "        er = abs((c - b) / c) * 100 if c != 0 else 0  # Calcular el error relativo\n",
    "\n",
    "        # Imprimir información de la iteración actual\n",
    "        print(f\"{iter:<2d}\\t{a:<12.10f}\\t{b:<12.10f}\\t{c:<12.10f}\\t{er:<16.13f}\")\n",
    "\n",
    "        # Verificar criterios de parada\n",
    "        if abs(fc) < tol or iter >= n:  \n",
    "            break\n",
    "\n",
    "        # Actualizar los valores de a, b y fa, fb para la próxima iteración\n",
    "        test = fa * fc\n",
    "        if test < 0:\n",
    "            b, fb, ib = c, fc, 0\n",
    "            ia += 1\n",
    "            if ia >= 2:\n",
    "                fa /= 2\n",
    "        elif test > 0:\n",
    "            a, fa, ia = c, fc, 0\n",
    "            ib += 1\n",
    "            if ib >= 2:\n",
    "                fb /= 2\n",
    "\t\n",
    "    print(f\"La raiz encontrada es: {c}\")  # Imprimir la raíz encontrada\n",
    "    return c  # Retornar la raíz"
   ]
  },
  {
   "cell_type": "code",
   "execution_count": 57,
   "id": "3340464c-d00d-400d-80bb-5e67f3ce0552",
   "metadata": {},
   "outputs": [
    {
     "name": "stdout",
     "output_type": "stream",
     "text": [
      "Ingrese f(x):  x**10-1\n"
     ]
    },
    {
     "name": "stdout",
     "output_type": "stream",
     "text": [
      "i \ta           \tb           \traiz        \terror relativo %\n",
      "1 \t0.0000000000\t1.3000000000\t0.0942995954\t1278.5849184900000\n",
      "2 \t0.0942995954\t1.3000000000\t0.1817588725\t615.2333099246850\n",
      "3 \t0.1817588725\t1.3000000000\t0.3330171568\t290.3702778019600\n",
      "4 \t0.3330171568\t1.3000000000\t0.5634423147\t130.7245952386360\n",
      "5 \t0.5634423147\t1.3000000000\t0.8463635731\t53.5982928917566\n",
      "6 \t0.8463635731\t1.3000000000\t1.0749101771\t20.9403378750562\n",
      "7 \t0.8463635731\t1.0749101771\t0.9454923183\t13.6878805075442\n",
      "8 \t0.9454923183\t1.0749101771\t0.9828011093\t9.3720964370287 \n",
      "9 \t0.9828011093\t1.0749101771\t1.0040954924\t7.0525846642160 \n",
      "10\t0.9828011093\t1.0040954924\t0.9996755375\t0.4421389480803 \n",
      "11\t0.9996755375\t1.0040954924\t0.9999940616\t0.4101455148711 \n",
      "12\t0.9999940616\t1.0040954924\t1.0000057046\t0.4089764396350 \n",
      "13\t0.9999940616\t1.0000057046\t0.9999999998\t0.0005704785701 \n",
      "14\t0.9999999998\t1.0000057046\t1.0000000000\t0.0005704633260 \n",
      "La raiz encontrada es: 0.999999999999996\n"
     ]
    },
    {
     "data": {
      "text/latex": [
       "$\\displaystyle 0.999999999999996$"
      ],
      "text/plain": [
       "0.999999999999996"
      ]
     },
     "execution_count": 57,
     "metadata": {},
     "output_type": "execute_result"
    }
   ],
   "source": [
    "ModFalsePos(0, 1.3, 1e-10, 200)"
   ]
  },
  {
   "cell_type": "code",
   "execution_count": null,
   "id": "6db60618-6985-455b-ad39-7e6fa7a63bd0",
   "metadata": {},
   "outputs": [],
   "source": []
  }
 ],
 "metadata": {
  "kernelspec": {
   "display_name": "Python 3 (ipykernel)",
   "language": "python",
   "name": "python3"
  },
  "language_info": {
   "codemirror_mode": {
    "name": "ipython",
    "version": 3
   },
   "file_extension": ".py",
   "mimetype": "text/x-python",
   "name": "python",
   "nbconvert_exporter": "python",
   "pygments_lexer": "ipython3",
   "version": "3.11.8"
  }
 },
 "nbformat": 4,
 "nbformat_minor": 5
}
